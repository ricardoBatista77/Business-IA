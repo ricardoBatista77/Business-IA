{
  "nbformat": 4,
  "nbformat_minor": 0,
  "metadata": {
    "colab": {
      "name": "Stock Price prediction for Apple.ipynb",
      "provenance": [],
      "authorship_tag": "ABX9TyM4+4z1DONZx6b7c/oKpbQS",
      "include_colab_link": true
    },
    "kernelspec": {
      "name": "python3",
      "display_name": "Python 3"
    }
  },
  "cells": [
    {
      "cell_type": "markdown",
      "metadata": {
        "id": "view-in-github",
        "colab_type": "text"
      },
      "source": [
        "<a href=\"https://colab.research.google.com/github/ricardoBatista77/Business-IA/blob/master/Stock_Price_prediction_for_Apple.ipynb\" target=\"_parent\"><img src=\"https://colab.research.google.com/assets/colab-badge.svg\" alt=\"Open In Colab\"/></a>"
      ]
    },
    {
      "cell_type": "code",
      "metadata": {
        "id": "kKHo65JMGYs8",
        "colab_type": "code",
        "colab": {
          "base_uri": "https://localhost:8080/",
          "height": 88
        },
        "outputId": "67b3afef-5cbb-4617-9e15-b0d2df409345"
      },
      "source": [
        "#Import the libraries\n",
        "import math\n",
        "import pandas_datareader as web\n",
        "import numpy as np\n",
        "import pandas as pd\n",
        "from sklearn.preprocessing import MinMaxScaler\n",
        "from keras.models import Sequential\n",
        "from keras.layers import Dense, LSTM\n",
        "import matplotlib.pyplot as plt\n",
        "plt.style.use('fivethirtyeight')"
      ],
      "execution_count": 1,
      "outputs": [
        {
          "output_type": "stream",
          "text": [
            "/usr/local/lib/python3.6/dist-packages/pandas_datareader/compat/__init__.py:7: FutureWarning: pandas.util.testing is deprecated. Use the functions in the public API at pandas.testing instead.\n",
            "  from pandas.util.testing import assert_frame_equal\n",
            "Using TensorFlow backend.\n"
          ],
          "name": "stderr"
        }
      ]
    },
    {
      "cell_type": "code",
      "metadata": {
        "id": "5SEgiNRAGvMK",
        "colab_type": "code",
        "colab": {
          "base_uri": "https://localhost:8080/",
          "height": 450
        },
        "outputId": "f29bfded-7a00-4f13-e835-ef51a188d23b"
      },
      "source": [
        "#Get the stock quote\n",
        "df = web.DataReader('AAPL', data_source='yahoo', start='2012-01-01', end='2020-04-19')\n",
        "#Show teh data\n",
        "df"
      ],
      "execution_count": 2,
      "outputs": [
        {
          "output_type": "execute_result",
          "data": {
            "text/html": [
              "<div>\n",
              "<style scoped>\n",
              "    .dataframe tbody tr th:only-of-type {\n",
              "        vertical-align: middle;\n",
              "    }\n",
              "\n",
              "    .dataframe tbody tr th {\n",
              "        vertical-align: top;\n",
              "    }\n",
              "\n",
              "    .dataframe thead th {\n",
              "        text-align: right;\n",
              "    }\n",
              "</style>\n",
              "<table border=\"1\" class=\"dataframe\">\n",
              "  <thead>\n",
              "    <tr style=\"text-align: right;\">\n",
              "      <th></th>\n",
              "      <th>High</th>\n",
              "      <th>Low</th>\n",
              "      <th>Open</th>\n",
              "      <th>Close</th>\n",
              "      <th>Volume</th>\n",
              "      <th>Adj Close</th>\n",
              "    </tr>\n",
              "    <tr>\n",
              "      <th>Date</th>\n",
              "      <th></th>\n",
              "      <th></th>\n",
              "      <th></th>\n",
              "      <th></th>\n",
              "      <th></th>\n",
              "      <th></th>\n",
              "    </tr>\n",
              "  </thead>\n",
              "  <tbody>\n",
              "    <tr>\n",
              "      <th>2012-01-03</th>\n",
              "      <td>58.928570</td>\n",
              "      <td>58.428570</td>\n",
              "      <td>58.485714</td>\n",
              "      <td>58.747143</td>\n",
              "      <td>75555200.0</td>\n",
              "      <td>50.994907</td>\n",
              "    </tr>\n",
              "    <tr>\n",
              "      <th>2012-01-04</th>\n",
              "      <td>59.240002</td>\n",
              "      <td>58.468571</td>\n",
              "      <td>58.571430</td>\n",
              "      <td>59.062859</td>\n",
              "      <td>65005500.0</td>\n",
              "      <td>51.268970</td>\n",
              "    </tr>\n",
              "    <tr>\n",
              "      <th>2012-01-05</th>\n",
              "      <td>59.792858</td>\n",
              "      <td>58.952858</td>\n",
              "      <td>59.278572</td>\n",
              "      <td>59.718571</td>\n",
              "      <td>67817400.0</td>\n",
              "      <td>51.838169</td>\n",
              "    </tr>\n",
              "    <tr>\n",
              "      <th>2012-01-06</th>\n",
              "      <td>60.392857</td>\n",
              "      <td>59.888573</td>\n",
              "      <td>59.967144</td>\n",
              "      <td>60.342857</td>\n",
              "      <td>79573200.0</td>\n",
              "      <td>52.380054</td>\n",
              "    </tr>\n",
              "    <tr>\n",
              "      <th>2012-01-09</th>\n",
              "      <td>61.107143</td>\n",
              "      <td>60.192856</td>\n",
              "      <td>60.785713</td>\n",
              "      <td>60.247143</td>\n",
              "      <td>98506100.0</td>\n",
              "      <td>52.296970</td>\n",
              "    </tr>\n",
              "    <tr>\n",
              "      <th>...</th>\n",
              "      <td>...</td>\n",
              "      <td>...</td>\n",
              "      <td>...</td>\n",
              "      <td>...</td>\n",
              "      <td>...</td>\n",
              "      <td>...</td>\n",
              "    </tr>\n",
              "    <tr>\n",
              "      <th>2020-04-13</th>\n",
              "      <td>273.700012</td>\n",
              "      <td>265.829987</td>\n",
              "      <td>268.309998</td>\n",
              "      <td>273.250000</td>\n",
              "      <td>32755700.0</td>\n",
              "      <td>273.250000</td>\n",
              "    </tr>\n",
              "    <tr>\n",
              "      <th>2020-04-14</th>\n",
              "      <td>288.250000</td>\n",
              "      <td>278.049988</td>\n",
              "      <td>280.000000</td>\n",
              "      <td>287.049988</td>\n",
              "      <td>48748700.0</td>\n",
              "      <td>287.049988</td>\n",
              "    </tr>\n",
              "    <tr>\n",
              "      <th>2020-04-15</th>\n",
              "      <td>286.329987</td>\n",
              "      <td>280.630005</td>\n",
              "      <td>282.399994</td>\n",
              "      <td>284.429993</td>\n",
              "      <td>32788600.0</td>\n",
              "      <td>284.429993</td>\n",
              "    </tr>\n",
              "    <tr>\n",
              "      <th>2020-04-16</th>\n",
              "      <td>288.200012</td>\n",
              "      <td>282.350006</td>\n",
              "      <td>287.380005</td>\n",
              "      <td>286.690002</td>\n",
              "      <td>38845800.0</td>\n",
              "      <td>286.690002</td>\n",
              "    </tr>\n",
              "    <tr>\n",
              "      <th>2020-04-17</th>\n",
              "      <td>286.950012</td>\n",
              "      <td>276.859985</td>\n",
              "      <td>284.690002</td>\n",
              "      <td>282.799988</td>\n",
              "      <td>53756600.0</td>\n",
              "      <td>282.799988</td>\n",
              "    </tr>\n",
              "  </tbody>\n",
              "</table>\n",
              "<p>2086 rows × 6 columns</p>\n",
              "</div>"
            ],
            "text/plain": [
              "                  High         Low  ...      Volume   Adj Close\n",
              "Date                                ...                        \n",
              "2012-01-03   58.928570   58.428570  ...  75555200.0   50.994907\n",
              "2012-01-04   59.240002   58.468571  ...  65005500.0   51.268970\n",
              "2012-01-05   59.792858   58.952858  ...  67817400.0   51.838169\n",
              "2012-01-06   60.392857   59.888573  ...  79573200.0   52.380054\n",
              "2012-01-09   61.107143   60.192856  ...  98506100.0   52.296970\n",
              "...                ...         ...  ...         ...         ...\n",
              "2020-04-13  273.700012  265.829987  ...  32755700.0  273.250000\n",
              "2020-04-14  288.250000  278.049988  ...  48748700.0  287.049988\n",
              "2020-04-15  286.329987  280.630005  ...  32788600.0  284.429993\n",
              "2020-04-16  288.200012  282.350006  ...  38845800.0  286.690002\n",
              "2020-04-17  286.950012  276.859985  ...  53756600.0  282.799988\n",
              "\n",
              "[2086 rows x 6 columns]"
            ]
          },
          "metadata": {
            "tags": []
          },
          "execution_count": 2
        }
      ]
    },
    {
      "cell_type": "code",
      "metadata": {
        "id": "maSveZr2GvQB",
        "colab_type": "code",
        "colab": {
          "base_uri": "https://localhost:8080/",
          "height": 34
        },
        "outputId": "28ca82a7-5268-421e-82b4-1c74e7f35231"
      },
      "source": [
        "#Get the number of rows and columns in the data set\n",
        "df.shape"
      ],
      "execution_count": 3,
      "outputs": [
        {
          "output_type": "execute_result",
          "data": {
            "text/plain": [
              "(2086, 6)"
            ]
          },
          "metadata": {
            "tags": []
          },
          "execution_count": 3
        }
      ]
    },
    {
      "cell_type": "code",
      "metadata": {
        "id": "gneuulAoGvVB",
        "colab_type": "code",
        "colab": {
          "base_uri": "https://localhost:8080/",
          "height": 518
        },
        "outputId": "c15ecf93-edc3-4b1f-f83c-9f02c802f319"
      },
      "source": [
        "#Visualize the closing price history\n",
        "plt.figure(figsize=(16,8))\n",
        "plt.title('Close Price History')\n",
        "plt.plot(df['Close'])\n",
        "plt.xlabel('Date', fontsize=18)\n",
        "plt.ylabel('Close Price USD ($)', fontsize=18)\n",
        "plt.show()"
      ],
      "execution_count": 4,
      "outputs": [
        {
          "output_type": "display_data",
          "data": {
            "image/png": "[encoded data removed]",
            "text/plain": [
              "<Figure size 1152x576 with 1 Axes>"
            ]
          },
          "metadata": {
            "tags": [],
            "needs_background": "light"
          }
        }
      ]
    },
    {
      "cell_type": "code",
      "metadata": {
        "id": "lT26uf8HGvYi",
        "colab_type": "code",
        "colab": {
          "base_uri": "https://localhost:8080/",
          "height": 34
        },
        "outputId": "4fd81f1f-8352-4acf-90c1-52309f773fd7"
      },
      "source": [
        "#Create a new dataframe with only the 'Close column\n",
        "data = df.filter(['Close'])\n",
        "#Convert the dataframe to a numpy array\n",
        "dataset = data.values\n",
        "#Get the number of rows to train the model on\n",
        "training_data_len = math.ceil( len(dataset) * .8 )\n",
        "\n",
        "training_data_len"
      ],
      "execution_count": 5,
      "outputs": [
        {
          "output_type": "execute_result",
          "data": {
            "text/plain": [
              "1669"
            ]
          },
          "metadata": {
            "tags": []
          },
          "execution_count": 5
        }
      ]
    },
    {
      "cell_type": "code",
      "metadata": {
        "id": "Nv560MgdG8n5",
        "colab_type": "code",
        "colab": {
          "base_uri": "https://localhost:8080/",
          "height": 136
        },
        "outputId": "c82ffebf-81a4-47cd-b45f-743ee818552c"
      },
      "source": [
        "#Scale the data\n",
        "scaler = MinMaxScaler(feature_range=(0,1))\n",
        "scaled_data = scaler.fit_transform(dataset)\n",
        "\n",
        "scaled_data"
      ],
      "execution_count": 6,
      "outputs": [
        {
          "output_type": "execute_result",
          "data": {
            "text/plain": [
              "array([[0.01089548],\n",
              "       [0.01205872],\n",
              "       [0.01447467],\n",
              "       ...,\n",
              "       [0.84241547],\n",
              "       [0.85074239],\n",
              "       [0.83640978]])"
            ]
          },
          "metadata": {
            "tags": []
          },
          "execution_count": 6
        }
      ]
    },
    {
      "cell_type": "code",
      "metadata": {
        "id": "9h9vq_N-G8r8",
        "colab_type": "code",
        "colab": {
          "base_uri": "https://localhost:8080/",
          "height": 680
        },
        "outputId": "5d207d76-222c-46c9-9c38-66cbe75a3c8b"
      },
      "source": [
        "#Create the training data set\n",
        "#Create the scaled training data set\n",
        "train_data = scaled_data[0:training_data_len , :]\n",
        "#Split the data into x_train and y_train data sets\n",
        "x_train = []\n",
        "y_train = []\n",
        "\n",
        "for i in range(60, len(train_data)):\n",
        "  x_train.append(train_data[i-60:i, 0])\n",
        "  y_train.append(train_data[i, 0])\n",
        "  if i<= 61:\n",
        "    print(x_train)\n",
        "    print(y_train)\n",
        "    print()"
      ],
      "execution_count": 7,
      "outputs": [
        {
          "output_type": "stream",
          "text": [
            "[array([0.01089548, 0.01205872, 0.01447467, 0.01677483, 0.01642217,\n",
            "       0.01721696, 0.01685378, 0.01624321, 0.01541158, 0.01798544,\n",
            "       0.02030665, 0.01959081, 0.01566949, 0.01941185, 0.01572739,\n",
            "       0.02954412, 0.02847562, 0.02987047, 0.03288645, 0.03471289,\n",
            "       0.03456025, 0.03399706, 0.03639722, 0.03865526, 0.04121335,\n",
            "       0.04534521, 0.05402475, 0.05415633, 0.05898825, 0.06259901,\n",
            "       0.05639331, 0.05878296, 0.0587356 , 0.06543606, 0.06448335,\n",
            "       0.06624662, 0.06941526, 0.07117856, 0.07625785, 0.07995811,\n",
            "       0.08102658, 0.0814003 , 0.07507357, 0.07354712, 0.07377347,\n",
            "       0.07972122, 0.08139505, 0.08499001, 0.09346428, 0.10477032,\n",
            "       0.10265438, 0.10265964, 0.11083389, 0.11339195, 0.11157078,\n",
            "       0.10990752, 0.10817582, 0.11392883, 0.11787649, 0.11952923])]\n",
            "[0.11544472908538655]\n",
            "\n",
            "[array([0.01089548, 0.01205872, 0.01447467, 0.01677483, 0.01642217,\n",
            "       0.01721696, 0.01685378, 0.01624321, 0.01541158, 0.01798544,\n",
            "       0.02030665, 0.01959081, 0.01566949, 0.01941185, 0.01572739,\n",
            "       0.02954412, 0.02847562, 0.02987047, 0.03288645, 0.03471289,\n",
            "       0.03456025, 0.03399706, 0.03639722, 0.03865526, 0.04121335,\n",
            "       0.04534521, 0.05402475, 0.05415633, 0.05898825, 0.06259901,\n",
            "       0.05639331, 0.05878296, 0.0587356 , 0.06543606, 0.06448335,\n",
            "       0.06624662, 0.06941526, 0.07117856, 0.07625785, 0.07995811,\n",
            "       0.08102658, 0.0814003 , 0.07507357, 0.07354712, 0.07377347,\n",
            "       0.07972122, 0.08139505, 0.08499001, 0.09346428, 0.10477032,\n",
            "       0.10265438, 0.10265964, 0.11083389, 0.11339195, 0.11157078,\n",
            "       0.10990752, 0.10817582, 0.11392883, 0.11787649, 0.11952923]), array([0.01205872, 0.01447467, 0.01677483, 0.01642217, 0.01721696,\n",
            "       0.01685378, 0.01624321, 0.01541158, 0.01798544, 0.02030665,\n",
            "       0.01959081, 0.01566949, 0.01941185, 0.01572739, 0.02954412,\n",
            "       0.02847562, 0.02987047, 0.03288645, 0.03471289, 0.03456025,\n",
            "       0.03399706, 0.03639722, 0.03865526, 0.04121335, 0.04534521,\n",
            "       0.05402475, 0.05415633, 0.05898825, 0.06259901, 0.05639331,\n",
            "       0.05878296, 0.0587356 , 0.06543606, 0.06448335, 0.06624662,\n",
            "       0.06941526, 0.07117856, 0.07625785, 0.07995811, 0.08102658,\n",
            "       0.0814003 , 0.07507357, 0.07354712, 0.07377347, 0.07972122,\n",
            "       0.08139505, 0.08499001, 0.09346428, 0.10477032, 0.10265438,\n",
            "       0.10265964, 0.11083389, 0.11339195, 0.11157078, 0.10990752,\n",
            "       0.10817582, 0.11392883, 0.11787649, 0.11952923, 0.11544473])]\n",
            "[0.11544472908538655, 0.11001805153856642]\n",
            "\n"
          ],
          "name": "stdout"
        }
      ]
    },
    {
      "cell_type": "code",
      "metadata": {
        "id": "IjAkUXjLG8wV",
        "colab_type": "code",
        "colab": {}
      },
      "source": [
        "#Convert the x_train and y_train to numpy arrays \n",
        "x_train, y_train = np.array(x_train), np.array(y_train)"
      ],
      "execution_count": 0,
      "outputs": []
    },
    {
      "cell_type": "code",
      "metadata": {
        "id": "A18FgWKKGvbp",
        "colab_type": "code",
        "colab": {
          "base_uri": "https://localhost:8080/",
          "height": 34
        },
        "outputId": "be2a4f7b-fecd-4397-f848-fd67afb0fe50"
      },
      "source": [
        "#Reshape the data\n",
        "x_train = np.reshape(x_train, (x_train.shape[0], x_train.shape[1], 1))\n",
        "x_train.shape"
      ],
      "execution_count": 9,
      "outputs": [
        {
          "output_type": "execute_result",
          "data": {
            "text/plain": [
              "(1609, 60, 1)"
            ]
          },
          "metadata": {
            "tags": []
          },
          "execution_count": 9
        }
      ]
    },
    {
      "cell_type": "code",
      "metadata": {
        "id": "F89vtc0GGviz",
        "colab_type": "code",
        "colab": {}
      },
      "source": [
        "#Build the LSTM model\n",
        "model = Sequential()\n",
        "model.add(LSTM(50, return_sequences=True, input_shape= (x_train.shape[1], 1)))\n",
        "model.add(LSTM(50, return_sequences= False))\n",
        "model.add(Dense(25))\n",
        "model.add(Dense(1))"
      ],
      "execution_count": 0,
      "outputs": []
    },
    {
      "cell_type": "code",
      "metadata": {
        "id": "TW4gVV8ZHVUz",
        "colab_type": "code",
        "colab": {}
      },
      "source": [
        "#Compile the model\n",
        "model.compile(optimizer='adam', loss='mean_squared_error')"
      ],
      "execution_count": 0,
      "outputs": []
    },
    {
      "cell_type": "code",
      "metadata": {
        "id": "DHPU9YUjHVYC",
        "colab_type": "code",
        "colab": {
          "base_uri": "https://localhost:8080/",
          "height": 68
        },
        "outputId": "762fbfbf-6dcb-4940-ce54-bb7177dc577d"
      },
      "source": [
        "#Train the model\n",
        "model.fit(x_train, y_train, batch_size=1, epochs=1)"
      ],
      "execution_count": 12,
      "outputs": [
        {
          "output_type": "stream",
          "text": [
            "Epoch 1/1\n",
            "1609/1609 [==============================] - 60s 37ms/step - loss: 5.9952e-04\n"
          ],
          "name": "stdout"
        },
        {
          "output_type": "execute_result",
          "data": {
            "text/plain": [
              "<keras.callbacks.callbacks.History at 0x7f55151fc780>"
            ]
          },
          "metadata": {
            "tags": []
          },
          "execution_count": 12
        }
      ]
    },
    {
      "cell_type": "code",
      "metadata": {
        "id": "tw9iZyOWHVbS",
        "colab_type": "code",
        "colab": {}
      },
      "source": [
        "#Create the testing data set\n",
        "#Create a new array containing scaled values from index 1543 to 2002 \n",
        "test_data = scaled_data[training_data_len - 60: , :]\n",
        "#Create the data sets x_test and y_test\n",
        "x_test = []\n",
        "y_test = dataset[training_data_len:, :]\n",
        "for i in range(60, len(test_data)):\n",
        "  x_test.append(test_data[i-60:i, 0])"
      ],
      "execution_count": 0,
      "outputs": []
    },
    {
      "cell_type": "code",
      "metadata": {
        "id": "VyhT1NtLHVeI",
        "colab_type": "code",
        "colab": {}
      },
      "source": [
        "#Convert the data to a numpy array\n",
        "x_test = np.array(x_test)"
      ],
      "execution_count": 0,
      "outputs": []
    },
    {
      "cell_type": "code",
      "metadata": {
        "id": "10cFXNpAHVhB",
        "colab_type": "code",
        "colab": {}
      },
      "source": [
        "#Reshape the data\n",
        "x_test = np.reshape(x_test, (x_test.shape[0], x_test.shape[1], 1 ))"
      ],
      "execution_count": 0,
      "outputs": []
    },
    {
      "cell_type": "code",
      "metadata": {
        "id": "mR1b0N14Htv3",
        "colab_type": "code",
        "colab": {}
      },
      "source": [
        "#Get the models predicted price values \n",
        "predictions = model.predict(x_test)\n",
        "predictions = scaler.inverse_transform(predictions)"
      ],
      "execution_count": 0,
      "outputs": []
    },
    {
      "cell_type": "code",
      "metadata": {
        "id": "eOiWEespHt0n",
        "colab_type": "code",
        "colab": {
          "base_uri": "https://localhost:8080/",
          "height": 34
        },
        "outputId": "b3e560b9-65b7-4946-80a6-7801056d35e8"
      },
      "source": [
        "#Get the root mean squared error (RMSE)\n",
        "rmse=np.sqrt(np.mean(((predictions- y_test)**2)))\n",
        "rmse"
      ],
      "execution_count": 17,
      "outputs": [
        {
          "output_type": "execute_result",
          "data": {
            "text/plain": [
              "9.390107530898606"
            ]
          },
          "metadata": {
            "tags": []
          },
          "execution_count": 17
        }
      ]
    },
    {
      "cell_type": "code",
      "metadata": {
        "id": "kgMe7PExHt5N",
        "colab_type": "code",
        "colab": {
          "base_uri": "https://localhost:8080/",
          "height": 620
        },
        "outputId": "b75e01dc-b0a8-467d-aec5-10475936272c"
      },
      "source": [
        "#Plot the data\n",
        "train = data[:training_data_len]\n",
        "valid = data[training_data_len:]\n",
        "valid['Predictions'] = predictions\n",
        "#Visualize the data\n",
        "plt.figure(figsize=(16,8))\n",
        "plt.title('Model')\n",
        "plt.xlabel('Date', fontsize=18)\n",
        "plt.ylabel('Close Price USD ($)', fontsize=18)\n",
        "plt.plot(train['Close'])\n",
        "plt.plot(valid[['Close', 'Predictions']])\n",
        "plt.legend(['Train', 'Val', 'Predictions'], loc='lower right')\n",
        "plt.show()"
      ],
      "execution_count": 18,
      "outputs": [
        {
          "output_type": "stream",
          "text": [
            "/usr/local/lib/python3.6/dist-packages/ipykernel_launcher.py:3: SettingWithCopyWarning: \n",
            "A value is trying to be set on a copy of a slice from a DataFrame.\n",
            "Try using .loc[row_indexer,col_indexer] = value instead\n",
            "\n",
            "See the caveats in the documentation: https://pandas.pydata.org/pandas-docs/stable/user_guide/indexing.html#returning-a-view-versus-a-copy\n",
            "  This is separate from the ipykernel package so we can avoid doing imports until\n"
          ],
          "name": "stderr"
        },
        {
          "output_type": "display_data",
          "data": {
            "image/png": "[encoded data removed]",
            "text/plain": [
              "<Figure size 1152x576 with 1 Axes>"
            ]
          },
          "metadata": {
            "tags": [],
            "needs_background": "light"
          }
        }
      ]
    },
    {
      "cell_type": "code",
      "metadata": {
        "id": "1NRdvb3UHt-K",
        "colab_type": "code",
        "colab": {
          "base_uri": "https://localhost:8080/",
          "height": 450
        },
        "outputId": "49b967b8-f830-40df-e7d9-2bed2edfaebe"
      },
      "source": [
        "#Show the valid and predicted prices\n",
        "valid"
      ],
      "execution_count": 19,
      "outputs": [
        {
          "output_type": "execute_result",
          "data": {
            "text/html": [
              "<div>\n",
              "<style scoped>\n",
              "    .dataframe tbody tr th:only-of-type {\n",
              "        vertical-align: middle;\n",
              "    }\n",
              "\n",
              "    .dataframe tbody tr th {\n",
              "        vertical-align: top;\n",
              "    }\n",
              "\n",
              "    .dataframe thead th {\n",
              "        text-align: right;\n",
              "    }\n",
              "</style>\n",
              "<table border=\"1\" class=\"dataframe\">\n",
              "  <thead>\n",
              "    <tr style=\"text-align: right;\">\n",
              "      <th></th>\n",
              "      <th>Close</th>\n",
              "      <th>Predictions</th>\n",
              "    </tr>\n",
              "    <tr>\n",
              "      <th>Date</th>\n",
              "      <th></th>\n",
              "      <th></th>\n",
              "    </tr>\n",
              "  </thead>\n",
              "  <tbody>\n",
              "    <tr>\n",
              "      <th>2018-08-21</th>\n",
              "      <td>215.039993</td>\n",
              "      <td>208.296143</td>\n",
              "    </tr>\n",
              "    <tr>\n",
              "      <th>2018-08-22</th>\n",
              "      <td>215.050003</td>\n",
              "      <td>209.277283</td>\n",
              "    </tr>\n",
              "    <tr>\n",
              "      <th>2018-08-23</th>\n",
              "      <td>215.490005</td>\n",
              "      <td>210.053375</td>\n",
              "    </tr>\n",
              "    <tr>\n",
              "      <th>2018-08-24</th>\n",
              "      <td>216.160004</td>\n",
              "      <td>210.681030</td>\n",
              "    </tr>\n",
              "    <tr>\n",
              "      <th>2018-08-27</th>\n",
              "      <td>217.940002</td>\n",
              "      <td>211.229568</td>\n",
              "    </tr>\n",
              "    <tr>\n",
              "      <th>...</th>\n",
              "      <td>...</td>\n",
              "      <td>...</td>\n",
              "    </tr>\n",
              "    <tr>\n",
              "      <th>2020-04-13</th>\n",
              "      <td>273.250000</td>\n",
              "      <td>252.337463</td>\n",
              "    </tr>\n",
              "    <tr>\n",
              "      <th>2020-04-14</th>\n",
              "      <td>287.049988</td>\n",
              "      <td>255.544083</td>\n",
              "    </tr>\n",
              "    <tr>\n",
              "      <th>2020-04-15</th>\n",
              "      <td>284.429993</td>\n",
              "      <td>260.036560</td>\n",
              "    </tr>\n",
              "    <tr>\n",
              "      <th>2020-04-16</th>\n",
              "      <td>286.690002</td>\n",
              "      <td>264.391510</td>\n",
              "    </tr>\n",
              "    <tr>\n",
              "      <th>2020-04-17</th>\n",
              "      <td>282.799988</td>\n",
              "      <td>268.471741</td>\n",
              "    </tr>\n",
              "  </tbody>\n",
              "</table>\n",
              "<p>417 rows × 2 columns</p>\n",
              "</div>"
            ],
            "text/plain": [
              "                 Close  Predictions\n",
              "Date                               \n",
              "2018-08-21  215.039993   208.296143\n",
              "2018-08-22  215.050003   209.277283\n",
              "2018-08-23  215.490005   210.053375\n",
              "2018-08-24  216.160004   210.681030\n",
              "2018-08-27  217.940002   211.229568\n",
              "...                ...          ...\n",
              "2020-04-13  273.250000   252.337463\n",
              "2020-04-14  287.049988   255.544083\n",
              "2020-04-15  284.429993   260.036560\n",
              "2020-04-16  286.690002   264.391510\n",
              "2020-04-17  282.799988   268.471741\n",
              "\n",
              "[417 rows x 2 columns]"
            ]
          },
          "metadata": {
            "tags": []
          },
          "execution_count": 19
        }
      ]
    },
    {
      "cell_type": "code",
      "metadata": {
        "id": "yZqn6BfQHtrn",
        "colab_type": "code",
        "colab": {
          "base_uri": "https://localhost:8080/",
          "height": 34
        },
        "outputId": "224c83d0-b6c3-4c87-b742-c8b329fab2de"
      },
      "source": [
        "#Get the quote\n",
        "apple_quote = web.DataReader('AAPL', data_source='yahoo', start='2012-01-01', end='2020-04-19')\n",
        "#Create a new dataframe\n",
        "new_df = apple_quote.filter(['Close'])\n",
        "#Get teh last 60 day closing price values and convert the dataframe to an array\n",
        "last_60_days = new_df[-60:].values\n",
        "#Scale the data to be values between 0 and 1\n",
        "last_60_days_scaled = scaler.transform(last_60_days)\n",
        "#Create an empty list\n",
        "X_test = []\n",
        "#Append teh past 60 days\n",
        "X_test.append(last_60_days_scaled)\n",
        "#Convert the X_test data set to a numpy array\n",
        "X_test = np.array(X_test)\n",
        "#Reshape the data\n",
        "X_test = np.reshape(X_test, (X_test.shape[0], X_test.shape[1], 1))\n",
        "#Get the predicted scaled price\n",
        "pred_price = model.predict(X_test)\n",
        "#undo the scaling \n",
        "pred_price = scaler.inverse_transform(pred_price)\n",
        "print(pred_price)"
      ],
      "execution_count": 23,
      "outputs": [
        {
          "output_type": "stream",
          "text": [
            "[[271.53528]]\n"
          ],
          "name": "stdout"
        }
      ]
    },
    {
      "cell_type": "code",
      "metadata": {
        "id": "htpM0KNdHVjy",
        "colab_type": "code",
        "colab": {
          "base_uri": "https://localhost:8080/",
          "height": 68
        },
        "outputId": "7fc43f78-0d39-4ad7-cb4f-0006597e8f90"
      },
      "source": [
        "#Get the quote\n",
        "apple_quote2 = web.DataReader('AAPL', data_source='yahoo', start='2020-04-18', end='2020-04-18')\n",
        "print(apple_quote2['Close'])"
      ],
      "execution_count": 25,
      "outputs": [
        {
          "output_type": "stream",
          "text": [
            "Date\n",
            "2020-04-17    282.799988\n",
            "Name: Close, dtype: float64\n"
          ],
          "name": "stdout"
        }
      ]
    },
    {
      "cell_type": "code",
      "metadata": {
        "id": "IW-gs75zINld",
        "colab_type": "code",
        "colab": {}
      },
      "source": [
        ""
      ],
      "execution_count": 0,
      "outputs": []
    },
    {
      "cell_type": "code",
      "metadata": {
        "id": "QxjgabAxINp9",
        "colab_type": "code",
        "colab": {}
      },
      "source": [
        ""
      ],
      "execution_count": 0,
      "outputs": []
    },
    {
      "cell_type": "code",
      "metadata": {
        "id": "BPt_g2dPINtW",
        "colab_type": "code",
        "colab": {}
      },
      "source": [
        ""
      ],
      "execution_count": 0,
      "outputs": []
    },
    {
      "cell_type": "code",
      "metadata": {
        "id": "RR6YuD0KINwM",
        "colab_type": "code",
        "colab": {}
      },
      "source": [
        ""
      ],
      "execution_count": 0,
      "outputs": []
    },
    {
      "cell_type": "code",
      "metadata": {
        "id": "IaX6lY9TINy-",
        "colab_type": "code",
        "colab": {}
      },
      "source": [
        ""
      ],
      "execution_count": 0,
      "outputs": []
    },
    {
      "cell_type": "code",
      "metadata": {
        "id": "yiPI2-LyIN11",
        "colab_type": "code",
        "colab": {}
      },
      "source": [
        ""
      ],
      "execution_count": 0,
      "outputs": []
    },
    {
      "cell_type": "code",
      "metadata": {
        "id": "hLnAm6_dIN4O",
        "colab_type": "code",
        "colab": {}
      },
      "source": [
        ""
      ],
      "execution_count": 0,
      "outputs": []
    }
  ]
}