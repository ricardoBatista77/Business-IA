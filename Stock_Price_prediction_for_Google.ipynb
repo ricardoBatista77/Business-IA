{
  "nbformat": 4,
  "nbformat_minor": 0,
  "metadata": {
    "colab": {
      "name": "Stock Price prediction for Google.ipynb",
      "provenance": [],
      "authorship_tag": "ABX9TyPCSxxWKa//FGi65WJdhsvt",
      "include_colab_link": true
    },
    "kernelspec": {
      "name": "python3",
      "display_name": "Python 3"
    }
  },
  "cells": [
    {
      "cell_type": "markdown",
      "metadata": {
        "id": "view-in-github",
        "colab_type": "text"
      },
      "source": [
        "<a href=\"https://colab.research.google.com/github/ricardoBatista77/Business-IA/blob/master/Stock_Price_prediction_for_Google.ipynb\" target=\"_parent\"><img src=\"https://colab.research.google.com/assets/colab-badge.svg\" alt=\"Open In Colab\"/></a>"
      ]
    },
    {
      "cell_type": "code",
      "metadata": {
        "id": "kKHo65JMGYs8",
        "colab_type": "code",
        "colab": {
          "base_uri": "https://localhost:8080/",
          "height": 88
        },
        "outputId": "088ccbf5-eadf-4833-9f9e-a32648e0a845"
      },
      "source": [
        "#Import the libraries\n",
        "import math\n",
        "import pandas_datareader as web\n",
        "import numpy as np\n",
        "import pandas as pd\n",
        "from sklearn.preprocessing import MinMaxScaler\n",
        "from keras.models import Sequential\n",
        "from keras.layers import Dense, LSTM\n",
        "import matplotlib.pyplot as plt\n",
        "plt.style.use('fivethirtyeight')"
      ],
      "execution_count": 1,
      "outputs": [
        {
          "output_type": "stream",
          "text": [
            "/usr/local/lib/python3.6/dist-packages/pandas_datareader/compat/__init__.py:7: FutureWarning: pandas.util.testing is deprecated. Use the functions in the public API at pandas.testing instead.\n",
            "  from pandas.util.testing import assert_frame_equal\n",
            "Using TensorFlow backend.\n"
          ],
          "name": "stderr"
        }
      ]
    },
    {
      "cell_type": "code",
      "metadata": {
        "id": "5SEgiNRAGvMK",
        "colab_type": "code",
        "colab": {
          "base_uri": "https://localhost:8080/",
          "height": 450
        },
        "outputId": "5e83a3b3-ba1d-4ac0-b2c6-0a7d16417ac4"
      },
      "source": [
        "#Get the stock quote\n",
        "df = web.DataReader('GOOGL', data_source='yahoo', start='2012-01-01', end='2020-04-19')\n",
        "#Show teh data\n",
        "df"
      ],
      "execution_count": 2,
      "outputs": [
        {
          "output_type": "execute_result",
          "data": {
            "text/html": [
              "<div>\n",
              "<style scoped>\n",
              "    .dataframe tbody tr th:only-of-type {\n",
              "        vertical-align: middle;\n",
              "    }\n",
              "\n",
              "    .dataframe tbody tr th {\n",
              "        vertical-align: top;\n",
              "    }\n",
              "\n",
              "    .dataframe thead th {\n",
              "        text-align: right;\n",
              "    }\n",
              "</style>\n",
              "<table border=\"1\" class=\"dataframe\">\n",
              "  <thead>\n",
              "    <tr style=\"text-align: right;\">\n",
              "      <th></th>\n",
              "      <th>High</th>\n",
              "      <th>Low</th>\n",
              "      <th>Open</th>\n",
              "      <th>Close</th>\n",
              "      <th>Volume</th>\n",
              "      <th>Adj Close</th>\n",
              "    </tr>\n",
              "    <tr>\n",
              "      <th>Date</th>\n",
              "      <th></th>\n",
              "      <th></th>\n",
              "      <th></th>\n",
              "      <th></th>\n",
              "      <th></th>\n",
              "      <th></th>\n",
              "    </tr>\n",
              "  </thead>\n",
              "  <tbody>\n",
              "    <tr>\n",
              "      <th>2012-01-03</th>\n",
              "      <td>334.409424</td>\n",
              "      <td>326.511505</td>\n",
              "      <td>326.796783</td>\n",
              "      <td>333.038025</td>\n",
              "      <td>7345600.0</td>\n",
              "      <td>333.038025</td>\n",
              "    </tr>\n",
              "    <tr>\n",
              "      <th>2012-01-04</th>\n",
              "      <td>335.460449</td>\n",
              "      <td>330.640656</td>\n",
              "      <td>332.847839</td>\n",
              "      <td>334.474487</td>\n",
              "      <td>5722200.0</td>\n",
              "      <td>334.474487</td>\n",
              "    </tr>\n",
              "    <tr>\n",
              "      <th>2012-01-05</th>\n",
              "      <td>332.317322</td>\n",
              "      <td>328.443451</td>\n",
              "      <td>331.396393</td>\n",
              "      <td>329.834839</td>\n",
              "      <td>6559200.0</td>\n",
              "      <td>329.834839</td>\n",
              "    </tr>\n",
              "    <tr>\n",
              "      <th>2012-01-06</th>\n",
              "      <td>330.330322</td>\n",
              "      <td>325.220215</td>\n",
              "      <td>329.904907</td>\n",
              "      <td>325.335327</td>\n",
              "      <td>5380400.0</td>\n",
              "      <td>325.335327</td>\n",
              "    </tr>\n",
              "    <tr>\n",
              "      <th>2012-01-09</th>\n",
              "      <td>323.823822</td>\n",
              "      <td>310.925934</td>\n",
              "      <td>323.573578</td>\n",
              "      <td>311.541534</td>\n",
              "      <td>11633500.0</td>\n",
              "      <td>311.541534</td>\n",
              "    </tr>\n",
              "    <tr>\n",
              "      <th>...</th>\n",
              "      <td>...</td>\n",
              "      <td>...</td>\n",
              "      <td>...</td>\n",
              "      <td>...</td>\n",
              "      <td>...</td>\n",
              "      <td>...</td>\n",
              "    </tr>\n",
              "    <tr>\n",
              "      <th>2020-04-13</th>\n",
              "      <td>1214.520020</td>\n",
              "      <td>1182.329956</td>\n",
              "      <td>1201.500000</td>\n",
              "      <td>1210.410034</td>\n",
              "      <td>1935100.0</td>\n",
              "      <td>1210.410034</td>\n",
              "    </tr>\n",
              "    <tr>\n",
              "      <th>2020-04-14</th>\n",
              "      <td>1275.750000</td>\n",
              "      <td>1228.540039</td>\n",
              "      <td>1239.969971</td>\n",
              "      <td>1265.229980</td>\n",
              "      <td>3167900.0</td>\n",
              "      <td>1265.229980</td>\n",
              "    </tr>\n",
              "    <tr>\n",
              "      <th>2020-04-15</th>\n",
              "      <td>1275.109985</td>\n",
              "      <td>1234.000000</td>\n",
              "      <td>1246.510010</td>\n",
              "      <td>1257.300049</td>\n",
              "      <td>2111800.0</td>\n",
              "      <td>1257.300049</td>\n",
              "    </tr>\n",
              "    <tr>\n",
              "      <th>2020-04-16</th>\n",
              "      <td>1273.359985</td>\n",
              "      <td>1238.199951</td>\n",
              "      <td>1267.140015</td>\n",
              "      <td>1257.430054</td>\n",
              "      <td>2883100.0</td>\n",
              "      <td>1257.430054</td>\n",
              "    </tr>\n",
              "    <tr>\n",
              "      <th>2020-04-17</th>\n",
              "      <td>1290.000000</td>\n",
              "      <td>1266.000000</td>\n",
              "      <td>1281.699951</td>\n",
              "      <td>1279.000000</td>\n",
              "      <td>2552500.0</td>\n",
              "      <td>1279.000000</td>\n",
              "    </tr>\n",
              "  </tbody>\n",
              "</table>\n",
              "<p>2086 rows × 6 columns</p>\n",
              "</div>"
            ],
            "text/plain": [
              "                   High          Low  ...      Volume    Adj Close\n",
              "Date                                  ...                         \n",
              "2012-01-03   334.409424   326.511505  ...   7345600.0   333.038025\n",
              "2012-01-04   335.460449   330.640656  ...   5722200.0   334.474487\n",
              "2012-01-05   332.317322   328.443451  ...   6559200.0   329.834839\n",
              "2012-01-06   330.330322   325.220215  ...   5380400.0   325.335327\n",
              "2012-01-09   323.823822   310.925934  ...  11633500.0   311.541534\n",
              "...                 ...          ...  ...         ...          ...\n",
              "2020-04-13  1214.520020  1182.329956  ...   1935100.0  1210.410034\n",
              "2020-04-14  1275.750000  1228.540039  ...   3167900.0  1265.229980\n",
              "2020-04-15  1275.109985  1234.000000  ...   2111800.0  1257.300049\n",
              "2020-04-16  1273.359985  1238.199951  ...   2883100.0  1257.430054\n",
              "2020-04-17  1290.000000  1266.000000  ...   2552500.0  1279.000000\n",
              "\n",
              "[2086 rows x 6 columns]"
            ]
          },
          "metadata": {
            "tags": []
          },
          "execution_count": 2
        }
      ]
    },
    {
      "cell_type": "code",
      "metadata": {
        "id": "maSveZr2GvQB",
        "colab_type": "code",
        "colab": {
          "base_uri": "https://localhost:8080/",
          "height": 34
        },
        "outputId": "d60ee3cb-936c-4021-cb22-69ceb0cd6d73"
      },
      "source": [
        "#Get the number of rows and columns in the data set\n",
        "df.shape"
      ],
      "execution_count": 3,
      "outputs": [
        {
          "output_type": "execute_result",
          "data": {
            "text/plain": [
              "(2086, 6)"
            ]
          },
          "metadata": {
            "tags": []
          },
          "execution_count": 3
        }
      ]
    },
    {
      "cell_type": "code",
      "metadata": {
        "id": "gneuulAoGvVB",
        "colab_type": "code",
        "colab": {
          "base_uri": "https://localhost:8080/",
          "height": 518
        },
        "outputId": "85faaa21-a5ad-4958-950a-5f436de25893"
      },
      "source": [
        "#Visualize the closing price history\n",
        "plt.figure(figsize=(16,8))\n",
        "plt.title('Close Price History')\n",
        "plt.plot(df['Close'])\n",
        "plt.xlabel('Date', fontsize=18)\n",
        "plt.ylabel('Close Price USD ($)', fontsize=18)\n",
        "plt.show()"
      ],
      "execution_count": 4,
      "outputs": [
        {
          "output_type": "display_data",
          "data": {
            "image/png": "[encoded data removed]",
            "text/plain": [
              "<Figure size 1152x576 with 1 Axes>"
            ]
          },
          "metadata": {
            "tags": [],
            "needs_background": "light"
          }
        }
      ]
    },
    {
      "cell_type": "code",
      "metadata": {
        "id": "lT26uf8HGvYi",
        "colab_type": "code",
        "colab": {
          "base_uri": "https://localhost:8080/",
          "height": 34
        },
        "outputId": "f7e5a0b9-1205-49d9-e412-16bd9bad9fc7"
      },
      "source": [
        "#Create a new dataframe with only the 'Close column\n",
        "data = df.filter(['Close'])\n",
        "#Convert the dataframe to a numpy array\n",
        "dataset = data.values\n",
        "#Get the number of rows to train the model on\n",
        "training_data_len = math.ceil( len(dataset) * .8 )\n",
        "\n",
        "training_data_len"
      ],
      "execution_count": 5,
      "outputs": [
        {
          "output_type": "execute_result",
          "data": {
            "text/plain": [
              "1669"
            ]
          },
          "metadata": {
            "tags": []
          },
          "execution_count": 5
        }
      ]
    },
    {
      "cell_type": "code",
      "metadata": {
        "id": "Nv560MgdG8n5",
        "colab_type": "code",
        "colab": {
          "base_uri": "https://localhost:8080/",
          "height": 136
        },
        "outputId": "5b3f2ec8-3552-4c0e-e257-477409e4df80"
      },
      "source": [
        "#Scale the data\n",
        "scaler = MinMaxScaler(feature_range=(0,1))\n",
        "scaled_data = scaler.fit_transform(dataset)\n",
        "\n",
        "scaled_data"
      ],
      "execution_count": 6,
      "outputs": [
        {
          "output_type": "execute_result",
          "data": {
            "text/plain": [
              "array([[0.04275536],\n",
              "       [0.04390909],\n",
              "       [0.04018266],\n",
              "       ...,\n",
              "       [0.78509563],\n",
              "       [0.78520005],\n",
              "       [0.8025244 ]])"
            ]
          },
          "metadata": {
            "tags": []
          },
          "execution_count": 6
        }
      ]
    },
    {
      "cell_type": "code",
      "metadata": {
        "id": "9h9vq_N-G8r8",
        "colab_type": "code",
        "colab": {
          "base_uri": "https://localhost:8080/",
          "height": 680
        },
        "outputId": "49aa6d8a-efe8-49f3-ba82-12aa0bdbe294"
      },
      "source": [
        "#Create the training data set\n",
        "#Create the scaled training data set\n",
        "train_data = scaled_data[0:training_data_len , :]\n",
        "#Split the data into x_train and y_train data sets\n",
        "x_train = []\n",
        "y_train = []\n",
        "\n",
        "for i in range(60, len(train_data)):\n",
        "  x_train.append(train_data[i-60:i, 0])\n",
        "  y_train.append(train_data[i, 0])\n",
        "  if i<= 61:\n",
        "    print(x_train)\n",
        "    print(y_train)\n",
        "    print()"
      ],
      "execution_count": 7,
      "outputs": [
        {
          "output_type": "stream",
          "text": [
            "[array([0.04275536, 0.04390909, 0.04018266, 0.03656878, 0.02549001,\n",
            "       0.02576338, 0.02689698, 0.02837628, 0.02650704, 0.02795019,\n",
            "       0.02969077, 0.03236802, 0.01082955, 0.01064059, 0.00879549,\n",
            "       0.00419674, 0.00363797, 0.00841359, 0.00749303, 0.00846584,\n",
            "       0.00875529, 0.01047578, 0.01498609, 0.02011545, 0.01918284,\n",
            "       0.02042095, 0.02106816, 0.01883713, 0.02136562, 0.02038477,\n",
            "       0.01869642, 0.01908234, 0.0183266 , 0.02208921, 0.01965315,\n",
            "       0.01891753, 0.02044105, 0.02020388, 0.02385394, 0.02379766,\n",
            "       0.02546589, 0.02500362, 0.0221897 , 0.01845523, 0.01919489,\n",
            "       0.01933157, 0.01656187, 0.01853161, 0.02360871, 0.02288917,\n",
            "       0.02495538, 0.02652714, 0.03012091, 0.02992395, 0.03253283,\n",
            "       0.03497291, 0.03358202, 0.03629142, 0.03536282, 0.03887621])]\n",
            "[0.03592159829420327]\n",
            "\n",
            "[array([0.04275536, 0.04390909, 0.04018266, 0.03656878, 0.02549001,\n",
            "       0.02576338, 0.02689698, 0.02837628, 0.02650704, 0.02795019,\n",
            "       0.02969077, 0.03236802, 0.01082955, 0.01064059, 0.00879549,\n",
            "       0.00419674, 0.00363797, 0.00841359, 0.00749303, 0.00846584,\n",
            "       0.00875529, 0.01047578, 0.01498609, 0.02011545, 0.01918284,\n",
            "       0.02042095, 0.02106816, 0.01883713, 0.02136562, 0.02038477,\n",
            "       0.01869642, 0.01908234, 0.0183266 , 0.02208921, 0.01965315,\n",
            "       0.01891753, 0.02044105, 0.02020388, 0.02385394, 0.02379766,\n",
            "       0.02546589, 0.02500362, 0.0221897 , 0.01845523, 0.01919489,\n",
            "       0.01933157, 0.01656187, 0.01853161, 0.02360871, 0.02288917,\n",
            "       0.02495538, 0.02652714, 0.03012091, 0.02992395, 0.03253283,\n",
            "       0.03497291, 0.03358202, 0.03629142, 0.03536282, 0.03887621]), array([0.04390909, 0.04018266, 0.03656878, 0.02549001, 0.02576338,\n",
            "       0.02689698, 0.02837628, 0.02650704, 0.02795019, 0.02969077,\n",
            "       0.03236802, 0.01082955, 0.01064059, 0.00879549, 0.00419674,\n",
            "       0.00363797, 0.00841359, 0.00749303, 0.00846584, 0.00875529,\n",
            "       0.01047578, 0.01498609, 0.02011545, 0.01918284, 0.02042095,\n",
            "       0.02106816, 0.01883713, 0.02136562, 0.02038477, 0.01869642,\n",
            "       0.01908234, 0.0183266 , 0.02208921, 0.01965315, 0.01891753,\n",
            "       0.02044105, 0.02020388, 0.02385394, 0.02379766, 0.02546589,\n",
            "       0.02500362, 0.0221897 , 0.01845523, 0.01919489, 0.01933157,\n",
            "       0.01656187, 0.01853161, 0.02360871, 0.02288917, 0.02495538,\n",
            "       0.02652714, 0.03012091, 0.02992395, 0.03253283, 0.03497291,\n",
            "       0.03358202, 0.03629142, 0.03536282, 0.03887621, 0.0359216 ])]\n",
            "[0.03592159829420327, 0.033039345564824574]\n",
            "\n"
          ],
          "name": "stdout"
        }
      ]
    },
    {
      "cell_type": "code",
      "metadata": {
        "id": "IjAkUXjLG8wV",
        "colab_type": "code",
        "colab": {}
      },
      "source": [
        "#Convert the x_train and y_train to numpy arrays \n",
        "x_train, y_train = np.array(x_train), np.array(y_train)"
      ],
      "execution_count": 0,
      "outputs": []
    },
    {
      "cell_type": "code",
      "metadata": {
        "id": "A18FgWKKGvbp",
        "colab_type": "code",
        "colab": {
          "base_uri": "https://localhost:8080/",
          "height": 34
        },
        "outputId": "5ccd0cc3-c3ca-427b-b828-97f856690ad3"
      },
      "source": [
        "#Reshape the data\n",
        "x_train = np.reshape(x_train, (x_train.shape[0], x_train.shape[1], 1))\n",
        "x_train.shape"
      ],
      "execution_count": 9,
      "outputs": [
        {
          "output_type": "execute_result",
          "data": {
            "text/plain": [
              "(1609, 60, 1)"
            ]
          },
          "metadata": {
            "tags": []
          },
          "execution_count": 9
        }
      ]
    },
    {
      "cell_type": "code",
      "metadata": {
        "id": "F89vtc0GGviz",
        "colab_type": "code",
        "colab": {}
      },
      "source": [
        "#Build the LSTM model\n",
        "model = Sequential()\n",
        "model.add(LSTM(50, return_sequences=True, input_shape= (x_train.shape[1], 1)))\n",
        "model.add(LSTM(50, return_sequences= False))\n",
        "model.add(Dense(25))\n",
        "model.add(Dense(1))"
      ],
      "execution_count": 0,
      "outputs": []
    },
    {
      "cell_type": "code",
      "metadata": {
        "id": "TW4gVV8ZHVUz",
        "colab_type": "code",
        "colab": {}
      },
      "source": [
        "#Compile the model\n",
        "model.compile(optimizer='adam', loss='mean_squared_error')"
      ],
      "execution_count": 0,
      "outputs": []
    },
    {
      "cell_type": "code",
      "metadata": {
        "id": "DHPU9YUjHVYC",
        "colab_type": "code",
        "colab": {
          "base_uri": "https://localhost:8080/",
          "height": 68
        },
        "outputId": "2df82815-2566-49c9-be3a-1b138cb86901"
      },
      "source": [
        "#Train the model\n",
        "model.fit(x_train, y_train, batch_size=1, epochs=1)"
      ],
      "execution_count": 12,
      "outputs": [
        {
          "output_type": "stream",
          "text": [
            "Epoch 1/1\n",
            "1609/1609 [==============================] - 61s 38ms/step - loss: 0.0011\n"
          ],
          "name": "stdout"
        },
        {
          "output_type": "execute_result",
          "data": {
            "text/plain": [
              "<keras.callbacks.callbacks.History at 0x7f37fbfe35c0>"
            ]
          },
          "metadata": {
            "tags": []
          },
          "execution_count": 12
        }
      ]
    },
    {
      "cell_type": "code",
      "metadata": {
        "id": "tw9iZyOWHVbS",
        "colab_type": "code",
        "colab": {}
      },
      "source": [
        "#Create the testing data set\n",
        "#Create a new array containing scaled values from index 1543 to 2002 \n",
        "test_data = scaled_data[training_data_len - 60: , :]\n",
        "#Create the data sets x_test and y_test\n",
        "x_test = []\n",
        "y_test = dataset[training_data_len:, :]\n",
        "for i in range(60, len(test_data)):\n",
        "  x_test.append(test_data[i-60:i, 0])"
      ],
      "execution_count": 0,
      "outputs": []
    },
    {
      "cell_type": "code",
      "metadata": {
        "id": "VyhT1NtLHVeI",
        "colab_type": "code",
        "colab": {}
      },
      "source": [
        "#Convert the data to a numpy array\n",
        "x_test = np.array(x_test)"
      ],
      "execution_count": 0,
      "outputs": []
    },
    {
      "cell_type": "code",
      "metadata": {
        "id": "10cFXNpAHVhB",
        "colab_type": "code",
        "colab": {}
      },
      "source": [
        "#Reshape the data\n",
        "x_test = np.reshape(x_test, (x_test.shape[0], x_test.shape[1], 1 ))"
      ],
      "execution_count": 0,
      "outputs": []
    },
    {
      "cell_type": "code",
      "metadata": {
        "id": "mR1b0N14Htv3",
        "colab_type": "code",
        "colab": {}
      },
      "source": [
        "#Get the models predicted price values \n",
        "predictions = model.predict(x_test)\n",
        "predictions = scaler.inverse_transform(predictions)"
      ],
      "execution_count": 0,
      "outputs": []
    },
    {
      "cell_type": "code",
      "metadata": {
        "id": "eOiWEespHt0n",
        "colab_type": "code",
        "colab": {
          "base_uri": "https://localhost:8080/",
          "height": 34
        },
        "outputId": "83098d98-7490-46dd-d667-e64f6e411712"
      },
      "source": [
        "#Get the root mean squared error (RMSE)\n",
        "rmse=np.sqrt(np.mean(((predictions- y_test)**2)))\n",
        "rmse"
      ],
      "execution_count": 17,
      "outputs": [
        {
          "output_type": "execute_result",
          "data": {
            "text/plain": [
              "37.583712476358194"
            ]
          },
          "metadata": {
            "tags": []
          },
          "execution_count": 17
        }
      ]
    },
    {
      "cell_type": "code",
      "metadata": {
        "id": "kgMe7PExHt5N",
        "colab_type": "code",
        "colab": {
          "base_uri": "https://localhost:8080/",
          "height": 620
        },
        "outputId": "f48c080c-a24f-43b4-f09d-df6b9c82b23f"
      },
      "source": [
        "#Plot the data\n",
        "train = data[:training_data_len]\n",
        "valid = data[training_data_len:]\n",
        "valid['Predictions'] = predictions\n",
        "#Visualize the data\n",
        "plt.figure(figsize=(16,8))\n",
        "plt.title('Model')\n",
        "plt.xlabel('Date', fontsize=18)\n",
        "plt.ylabel('Close Price USD ($)', fontsize=18)\n",
        "plt.plot(train['Close'])\n",
        "plt.plot(valid[['Close', 'Predictions']])\n",
        "plt.legend(['Train', 'Val', 'Predictions'], loc='lower right')\n",
        "plt.show()"
      ],
      "execution_count": 18,
      "outputs": [
        {
          "output_type": "stream",
          "text": [
            "/usr/local/lib/python3.6/dist-packages/ipykernel_launcher.py:3: SettingWithCopyWarning: \n",
            "A value is trying to be set on a copy of a slice from a DataFrame.\n",
            "Try using .loc[row_indexer,col_indexer] = value instead\n",
            "\n",
            "See the caveats in the documentation: https://pandas.pydata.org/pandas-docs/stable/user_guide/indexing.html#returning-a-view-versus-a-copy\n",
            "  This is separate from the ipykernel package so we can avoid doing imports until\n"
          ],
          "name": "stderr"
        },
        {
          "output_type": "display_data",
          "data": {
            "image/png": "[encoded data removed]",
            "text/plain": [
              "<Figure size 1152x576 with 1 Axes>"
            ]
          },
          "metadata": {
            "tags": [],
            "needs_background": "light"
          }
        }
      ]
    },
    {
      "cell_type": "code",
      "metadata": {
        "id": "1NRdvb3UHt-K",
        "colab_type": "code",
        "colab": {
          "base_uri": "https://localhost:8080/",
          "height": 450
        },
        "outputId": "2c37deef-22aa-40d3-c3a8-658e0cf7ab08"
      },
      "source": [
        "#Show the valid and predicted prices\n",
        "valid"
      ],
      "execution_count": 19,
      "outputs": [
        {
          "output_type": "execute_result",
          "data": {
            "text/html": [
              "<div>\n",
              "<style scoped>\n",
              "    .dataframe tbody tr th:only-of-type {\n",
              "        vertical-align: middle;\n",
              "    }\n",
              "\n",
              "    .dataframe tbody tr th {\n",
              "        vertical-align: top;\n",
              "    }\n",
              "\n",
              "    .dataframe thead th {\n",
              "        text-align: right;\n",
              "    }\n",
              "</style>\n",
              "<table border=\"1\" class=\"dataframe\">\n",
              "  <thead>\n",
              "    <tr style=\"text-align: right;\">\n",
              "      <th></th>\n",
              "      <th>Close</th>\n",
              "      <th>Predictions</th>\n",
              "    </tr>\n",
              "    <tr>\n",
              "      <th>Date</th>\n",
              "      <th></th>\n",
              "      <th></th>\n",
              "    </tr>\n",
              "  </thead>\n",
              "  <tbody>\n",
              "    <tr>\n",
              "      <th>2018-08-21</th>\n",
              "      <td>1217.410034</td>\n",
              "      <td>1234.405151</td>\n",
              "    </tr>\n",
              "    <tr>\n",
              "      <th>2018-08-22</th>\n",
              "      <td>1221.750000</td>\n",
              "      <td>1230.480835</td>\n",
              "    </tr>\n",
              "    <tr>\n",
              "      <th>2018-08-23</th>\n",
              "      <td>1221.160034</td>\n",
              "      <td>1227.460083</td>\n",
              "    </tr>\n",
              "    <tr>\n",
              "      <th>2018-08-24</th>\n",
              "      <td>1236.750000</td>\n",
              "      <td>1225.094116</td>\n",
              "    </tr>\n",
              "    <tr>\n",
              "      <th>2018-08-27</th>\n",
              "      <td>1256.270020</td>\n",
              "      <td>1224.852417</td>\n",
              "    </tr>\n",
              "    <tr>\n",
              "      <th>...</th>\n",
              "      <td>...</td>\n",
              "      <td>...</td>\n",
              "    </tr>\n",
              "    <tr>\n",
              "      <th>2020-04-13</th>\n",
              "      <td>1210.410034</td>\n",
              "      <td>1158.816772</td>\n",
              "    </tr>\n",
              "    <tr>\n",
              "      <th>2020-04-14</th>\n",
              "      <td>1265.229980</td>\n",
              "      <td>1169.244629</td>\n",
              "    </tr>\n",
              "    <tr>\n",
              "      <th>2020-04-15</th>\n",
              "      <td>1257.300049</td>\n",
              "      <td>1183.823975</td>\n",
              "    </tr>\n",
              "    <tr>\n",
              "      <th>2020-04-16</th>\n",
              "      <td>1257.430054</td>\n",
              "      <td>1197.816650</td>\n",
              "    </tr>\n",
              "    <tr>\n",
              "      <th>2020-04-17</th>\n",
              "      <td>1279.000000</td>\n",
              "      <td>1210.238892</td>\n",
              "    </tr>\n",
              "  </tbody>\n",
              "</table>\n",
              "<p>417 rows × 2 columns</p>\n",
              "</div>"
            ],
            "text/plain": [
              "                  Close  Predictions\n",
              "Date                                \n",
              "2018-08-21  1217.410034  1234.405151\n",
              "2018-08-22  1221.750000  1230.480835\n",
              "2018-08-23  1221.160034  1227.460083\n",
              "2018-08-24  1236.750000  1225.094116\n",
              "2018-08-27  1256.270020  1224.852417\n",
              "...                 ...          ...\n",
              "2020-04-13  1210.410034  1158.816772\n",
              "2020-04-14  1265.229980  1169.244629\n",
              "2020-04-15  1257.300049  1183.823975\n",
              "2020-04-16  1257.430054  1197.816650\n",
              "2020-04-17  1279.000000  1210.238892\n",
              "\n",
              "[417 rows x 2 columns]"
            ]
          },
          "metadata": {
            "tags": []
          },
          "execution_count": 19
        }
      ]
    },
    {
      "cell_type": "code",
      "metadata": {
        "id": "yZqn6BfQHtrn",
        "colab_type": "code",
        "colab": {
          "base_uri": "https://localhost:8080/",
          "height": 34
        },
        "outputId": "2911f267-c5f2-48c3-fd19-7bd6a616120b"
      },
      "source": [
        "#Get the quote\n",
        "apple_quote = web.DataReader('GOOGL', data_source='yahoo', start='2012-01-01', end='2020-04-19')\n",
        "#Create a new dataframe\n",
        "new_df = apple_quote.filter(['Close'])\n",
        "#Get teh last 60 day closing price values and convert the dataframe to an array\n",
        "last_60_days = new_df[-60:].values\n",
        "#Scale the data to be values between 0 and 1\n",
        "last_60_days_scaled = scaler.transform(last_60_days)\n",
        "#Create an empty list\n",
        "X_test = []\n",
        "#Append teh past 60 days\n",
        "X_test.append(last_60_days_scaled)\n",
        "#Convert the X_test data set to a numpy array\n",
        "X_test = np.array(X_test)\n",
        "#Reshape the data\n",
        "X_test = np.reshape(X_test, (X_test.shape[0], X_test.shape[1], 1))\n",
        "#Get the predicted scaled price\n",
        "pred_price = model.predict(X_test)\n",
        "#undo the scaling \n",
        "pred_price = scaler.inverse_transform(pred_price)\n",
        "print(pred_price)"
      ],
      "execution_count": 22,
      "outputs": [
        {
          "output_type": "stream",
          "text": [
            "[[1222.7943]]\n"
          ],
          "name": "stdout"
        }
      ]
    },
    {
      "cell_type": "code",
      "metadata": {
        "id": "htpM0KNdHVjy",
        "colab_type": "code",
        "colab": {
          "base_uri": "https://localhost:8080/",
          "height": 68
        },
        "outputId": "d390328f-b623-418b-8278-50083723033c"
      },
      "source": [
        "#Get the quote\n",
        "apple_quote2 = web.DataReader('GOOGL', data_source='yahoo', start='2020-04-18', end='2020-04-18')\n",
        "print(apple_quote2['Close'])"
      ],
      "execution_count": 23,
      "outputs": [
        {
          "output_type": "stream",
          "text": [
            "Date\n",
            "2020-04-17    1279\n",
            "Name: Close, dtype: int64\n"
          ],
          "name": "stdout"
        }
      ]
    },
    {
      "cell_type": "code",
      "metadata": {
        "id": "IW-gs75zINld",
        "colab_type": "code",
        "colab": {}
      },
      "source": [
        ""
      ],
      "execution_count": 0,
      "outputs": []
    },
    {
      "cell_type": "code",
      "metadata": {
        "id": "QxjgabAxINp9",
        "colab_type": "code",
        "colab": {}
      },
      "source": [
        ""
      ],
      "execution_count": 0,
      "outputs": []
    },
    {
      "cell_type": "code",
      "metadata": {
        "id": "BPt_g2dPINtW",
        "colab_type": "code",
        "colab": {}
      },
      "source": [
        ""
      ],
      "execution_count": 0,
      "outputs": []
    },
    {
      "cell_type": "code",
      "metadata": {
        "id": "RR6YuD0KINwM",
        "colab_type": "code",
        "colab": {}
      },
      "source": [
        ""
      ],
      "execution_count": 0,
      "outputs": []
    },
    {
      "cell_type": "code",
      "metadata": {
        "id": "IaX6lY9TINy-",
        "colab_type": "code",
        "colab": {}
      },
      "source": [
        ""
      ],
      "execution_count": 0,
      "outputs": []
    },
    {
      "cell_type": "code",
      "metadata": {
        "id": "yiPI2-LyIN11",
        "colab_type": "code",
        "colab": {}
      },
      "source": [
        ""
      ],
      "execution_count": 0,
      "outputs": []
    },
    {
      "cell_type": "code",
      "metadata": {
        "id": "hLnAm6_dIN4O",
        "colab_type": "code",
        "colab": {}
      },
      "source": [
        ""
      ],
      "execution_count": 0,
      "outputs": []
    }
  ]
}